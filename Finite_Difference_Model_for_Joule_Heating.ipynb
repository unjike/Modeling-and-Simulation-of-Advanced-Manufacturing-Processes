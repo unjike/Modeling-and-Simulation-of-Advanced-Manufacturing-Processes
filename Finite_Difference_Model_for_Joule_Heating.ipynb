{
  "nbformat": 4,
  "nbformat_minor": 0,
  "metadata": {
    "colab": {
      "name": "Finite Difference Model for Joule Heating",
      "provenance": [],
      "authorship_tag": "ABX9TyNwlSBEOarkL77ruMvFGrBB",
      "include_colab_link": true
    },
    "kernelspec": {
      "name": "python3",
      "display_name": "Python 3"
    },
    "language_info": {
      "name": "python"
    }
  },
  "cells": [
    {
      "cell_type": "markdown",
      "metadata": {
        "id": "view-in-github",
        "colab_type": "text"
      },
      "source": [
        "<a href=\"https://colab.research.google.com/github/unjike/Modeling-and-Simulation-of-Advanced-Manufacturing-Processing/blob/main/Finite_Difference_Model_for_Joule_Heating.ipynb\" target=\"_parent\"><img src=\"https://colab.research.google.com/assets/colab-badge.svg\" alt=\"Open In Colab\"/></a>"
      ]
    },
    {
      "cell_type": "code",
      "execution_count": 51,
      "metadata": {
        "id": "Qv99OviWgxMZ"
      },
      "outputs": [],
      "source": [
        "## Importing usefull libraries\n",
        "import numpy as np\n",
        "import matplotlib.pyplot as plt\n",
        " \n",
        "##initializing constants\n",
        "sigma_c = 5*10**5  # S/m or kg−1⋅m−3⋅s3⋅A2  <---          Electrical conductivity (isotropic)\n",
        "rho_o = 6000   # kg/m3                     <---          Density\n",
        "C = 1000 # J/kgK                           <---          Heat Capacity\n",
        "Kappa_o = 400  # W/m-K                     <---          Thermal conductivity (isotropic)\n",
        "theta_o = 300 # K                          <---          Initial temperature\n",
        "L = 0.01 # m                               <---          Domain length\n",
        "E = 100 # V/m                              <---          Imposed electric field magnitude\n",
        "J = sigma_c*E # A/m^2                      <---          Current density\n",
        "a = 0.9 #                                  <---          Joule heating efficiency\n",
        "t_f = 1 # s                                <---          Final time of simulation\n",
        "dt = 10**-5 # s                            <---          Time step\n",
        "\n",
        "#iniializing time\n",
        "t=np.arange(0,t_f+10**-5, 10**-5)\n",
        "\n",
        "# defining a function for a transient temperature distribution\n",
        "\n",
        "def trnstempdist(n):\n",
        "  '''\n",
        "  This function returns a transient temperature distribution for a given number of node\n",
        "  '''\n",
        "  # initializing temperature\n",
        "  theta = [theta_o*np.ones(n)]\n",
        "\n",
        "  # initializing nodes\n",
        "  x = np.linspace(0,0.01,n)\n",
        "\n",
        "  # initializing node spacing\n",
        "  dx = np.copy(x[1])\n",
        "\n",
        "  # initializing matrix multiplier\n",
        "  A = -2*np.identity(n)+np.eye(n, k=-1)+np.eye(n, k=1)\n",
        "  A[0] = np.zeros(n)\n",
        "  A[-1] = np.zeros(n)\n",
        "\n",
        "  # evaluating joule heating term\n",
        "  JH = np.ones(n)*(a*J*E)\n",
        "  JH[0] = 0\n",
        "  JH[-1] = 0\n",
        "\n",
        "  # transient temperature\n",
        "  for i in range(len(t)-1):\n",
        "    theta.append(theta[i] + dt*Kappa_o/(rho_o*C*dx**2)*A@theta[i] + dt/(rho_o*C)*JH) \n",
        "\n",
        "  return theta"
      ]
    },
    {
      "cell_type": "code",
      "source": [
        "# for 3 nodes\n",
        "x = np.linspace(0,0.01,3)\n",
        "theta3 = trnstempdist(3)"
      ],
      "metadata": {
        "id": "Fkmei0BrQ8xO"
      },
      "execution_count": null,
      "outputs": []
    },
    {
      "cell_type": "code",
      "source": [
        "analytic = lambda x: \n",
        "plt.plot(x, theta3[int(t_f/(5*dt))])\n",
        "plt.plot(x, theta3[int(t_f/(5*dt))])\n",
        "plt.plot(x, theta3[int(2*t_f/(5*dt))])\n",
        "plt.plot(x, theta3[int(3*t_f/(5*dt))])\n",
        "plt.plot(x, theta3[int(4*t_f/(5*dt))])\n",
        "plt.plot(x, theta3[int(t_f/(dt))])\n",
        "plt.xlabel('x')\n",
        "plt.ylabel('theta')"
      ],
      "metadata": {
        "colab": {
          "base_uri": "https://localhost:8080/",
          "height": 296
        },
        "id": "BHrqEiA8xHgm",
        "outputId": "72683ed1-8efc-420c-fe43-9a4439d3b8df"
      },
      "execution_count": 53,
      "outputs": [
        {
          "output_type": "execute_result",
          "data": {
            "text/plain": [
              "Text(0, 0.5, 'theta')"
            ]
          },
          "metadata": {},
          "execution_count": 53
        },
        {
          "output_type": "display_data",
          "data": {
            "text/plain": [
              "<Figure size 432x288 with 1 Axes>"
            ],
            "image/png": "[encoded data removed]"
          },
          "metadata": {
            "needs_background": "light"
          }
        }
      ]
    },
    {
      "cell_type": "code",
      "source": [
        "theta3"
      ],
      "metadata": {
        "colab": {
          "base_uri": "https://localhost:8080/"
        },
        "id": "Q6njxcxzxIDc",
        "outputId": "e49755d7-0e59-4c6b-e072-06090ead662a"
      },
      "execution_count": 50,
      "outputs": [
        {
          "output_type": "execute_result",
          "data": {
            "text/plain": [
              "[array([300., 300., 300.]), array([300.    , 300.0075, 300.    ])]"
            ]
          },
          "metadata": {},
          "execution_count": 50
        }
      ]
    },
    {
      "cell_type": "code",
      "source": [
        "dt*Kappa_o/(rho_o*C*dx**2)"
      ],
      "metadata": {
        "colab": {
          "base_uri": "https://localhost:8080/"
        },
        "id": "-qSkCr0sDT4R",
        "outputId": "730da4f0-a489-46b2-f81d-3740b4c24a89"
      },
      "execution_count": 38,
      "outputs": [
        {
          "output_type": "execute_result",
          "data": {
            "text/plain": [
              "2.6666666666666667e-05"
            ]
          },
          "metadata": {},
          "execution_count": 38
        }
      ]
    },
    {
      "cell_type": "code",
      "source": [
        "JH"
      ],
      "metadata": {
        "colab": {
          "base_uri": "https://localhost:8080/"
        },
        "id": "b1HEFvayHXGa",
        "outputId": "afd2e10c-f40b-4237-b4f7-cf2ab15797fc"
      },
      "execution_count": 39,
      "outputs": [
        {
          "output_type": "execute_result",
          "data": {
            "text/plain": [
              "array([0.0e+00, 4.5e+09, 0.0e+00])"
            ]
          },
          "metadata": {},
          "execution_count": 39
        }
      ]
    },
    {
      "cell_type": "code",
      "source": [
        "J"
      ],
      "metadata": {
        "colab": {
          "base_uri": "https://localhost:8080/"
        },
        "id": "hPuPDgoALvAE",
        "outputId": "550849de-08f4-4a12-a0df-279794c1ec69"
      },
      "execution_count": 40,
      "outputs": [
        {
          "output_type": "execute_result",
          "data": {
            "text/plain": [
              "50000000"
            ]
          },
          "metadata": {},
          "execution_count": 40
        }
      ]
    },
    {
      "cell_type": "code",
      "source": [
        ""
      ],
      "metadata": {
        "id": "VW-sVVXnL2zD"
      },
      "execution_count": null,
      "outputs": []
    }
  ]
}