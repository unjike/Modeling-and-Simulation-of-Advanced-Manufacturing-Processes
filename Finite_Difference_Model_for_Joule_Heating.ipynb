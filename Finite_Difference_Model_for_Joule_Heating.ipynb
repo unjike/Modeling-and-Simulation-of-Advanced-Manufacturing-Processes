{
  "nbformat": 4,
  "nbformat_minor": 0,
  "metadata": {
    "colab": {
      "name": "Finite Difference Model for Joule Heating",
      "provenance": [],
      "authorship_tag": "ABX9TyNlycOwtZrdgnMocs7dOmbJ",
      "include_colab_link": true
    },
    "kernelspec": {
      "name": "python3",
      "display_name": "Python 3"
    },
    "language_info": {
      "name": "python"
    }
  },
  "cells": [
    {
      "cell_type": "markdown",
      "metadata": {
        "id": "view-in-github",
        "colab_type": "text"
      },
      "source": [
        "<a href=\"https://colab.research.google.com/github/unjike/Modeling-and-Simulation-of-Advanced-Manufacturing-Processing/blob/main/Finite_Difference_Model_for_Joule_Heating.ipynb\" target=\"_parent\"><img src=\"https://colab.research.google.com/assets/colab-badge.svg\" alt=\"Open In Colab\"/></a>"
      ]
    },
    {
      "cell_type": "code",
      "execution_count": null,
      "metadata": {
        "id": "Qv99OviWgxMZ"
      },
      "outputs": [],
      "source": [
        "## Importing usefull libraries\n",
        "import numpy as np\n",
        "import matplotlib.pyplot as plt\n",
        " \n",
        "##initializing constants\n",
        "sigma_c = 5*10**5  # S/m or kg−1⋅m−3⋅s3⋅A2  <---          Electrical conductivity (isotropic)\n",
        "rho_o = 6000   # kg/m3                     <---          Density\n",
        "C = 1000 # J/kgK                           <---          Heat Capacity\n",
        "Kappa_o = 400  # W/m-K                     <---          Thermal conductivity (isotropic)\n",
        "theta_o = 300 # K                          <---          Initial temperature\n",
        "L = 0.01 # m                               <---          Domain length\n",
        "E = 100 # V/m                              <---          Imposed electric field magnitude\n",
        "J = sigma_c*E # A/m^2                      <---          Current density\n",
        "a = 0.9 #                                  <---          Joule heating efficiency\n",
        "t_f = 1 # s                                <---          Final time of simulation\n",
        "dt = 10**-5 # s                            <---          Time step"
      ]
    }
  ]
}